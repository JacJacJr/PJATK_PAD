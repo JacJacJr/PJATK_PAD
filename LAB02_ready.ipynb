{
  "nbformat": 4,
  "nbformat_minor": 0,
  "metadata": {
    "colab": {
      "provenance": []
    },
    "kernelspec": {
      "name": "python3",
      "display_name": "Python 3"
    },
    "language_info": {
      "name": "python"
    }
  },
  "cells": [
    {
      "cell_type": "code",
      "execution_count": 4,
      "metadata": {
        "id": "qYbkBe_iuV6J"
      },
      "outputs": [],
      "source": [
        "import numpy as np\n",
        "import pandas as pd"
      ]
    },
    {
      "cell_type": "markdown",
      "source": [
        "Zadanie 1 (7 pkt)\n",
        "Korzystając z poniższego kodu oraz pliku president_heights.csv utwórz tablicę zawierającą wzrost prezydentów USA.\n",
        "\n",
        "Korzystając z pakietu NumPy podaj:\n",
        "- średni wzrost\n",
        "- odchylenie standardowe\n",
        "- najwyższy oraz najniższy wzrost:\n",
        "\n",
        "Podaj również 25 i 75 kwantyl oraz medianę:"
      ],
      "metadata": {
        "id": "wZCmPUfTvmvK"
      }
    },
    {
      "cell_type": "code",
      "source": [
        "data = pd.read_csv('president_heights.csv')\n",
        "\n",
        "heights = np.array(data['height(cm)'])\n",
        "\n",
        "mean_heights = np.mean(heights)\n",
        "sd_heights = np.std(heights)\n",
        "min_heights = np.amin(heights)\n",
        "max_heights = np.amax(heights)\n",
        "per25_heights = np.percentile(heights, 25)\n",
        "per75_heights = np.percentile(heights, 75)\n",
        "median_heights = np.median(heights)\n",
        "print(\"Mean height:       \", mean_heights )\n",
        "print(\"Standard deviation:\", sd_heights)\n",
        "print(\"Minimum height:    \", min_heights)\n",
        "print(\"Maximum height:    \", max_heights)\n",
        "print(\"25th percentile:   \", per25_heights)\n",
        "print(\"Median:            \", median_heights)\n",
        "print(\"75th percentile:   \", per75_heights)"
      ],
      "metadata": {
        "colab": {
          "base_uri": "https://localhost:8080/"
        },
        "id": "GuBCr6SIuWhZ",
        "outputId": "a971e131-b678-4ea5-885a-79b90a216dac"
      },
      "execution_count": 5,
      "outputs": [
        {
          "output_type": "stream",
          "name": "stdout",
          "text": [
            "Mean height:        179.73809523809524\n",
            "Standard deviation: 6.931843442745892\n",
            "Minimum height:     163\n",
            "Maximum height:     193\n",
            "25th percentile:    174.25\n",
            "Median:             182.0\n",
            "75th percentile:    183.0\n"
          ]
        }
      ]
    },
    {
      "cell_type": "markdown",
      "source": [
        "Zadanie 2 (4 pkt)\n",
        "\n",
        "Wgraj dane z pliku Zadanie_2.csv.\n",
        "Znajdź wektory własne, oraz wartości własne dla zawartej w pliku macierzy\n",
        "Oblicz macierz odwrotną dla macierzy z pliku"
      ],
      "metadata": {
        "id": "aadKaOCtviyj"
      }
    },
    {
      "cell_type": "code",
      "source": [
        "\n",
        "data = np.genfromtxt('Zadanie_2.csv', delimiter=';')\n",
        "\n",
        "eigenvectors_dane2 = np.linalg.eig(data)\n",
        "\n",
        "inv_data2 = np.linalg.inv(data)\n"
      ],
      "metadata": {
        "id": "L2Mq839auW0Z"
      },
      "execution_count": 8,
      "outputs": []
    },
    {
      "cell_type": "markdown",
      "source": [
        "Zadanie 3 (8 pkt)\n",
        "\n",
        "Plik Seattle2014.csv zawiera informacje o rocznych opadach w Seattle w 2014. Wykorzystaj kod poniżej aby wczytać plik.\n",
        "\n",
        "Wykorzystując operatory logiczne znajdź dni, kiedy [PODAJ LICZBĘ TYCH DNI]:\n",
        "Nie padało\n",
        "Padało\n",
        "Spadło powyżej 0.5 cali (inch) deszczu\n",
        "Spadło poniżej 0.2 cali (inch) deszczu, ale padało!\n",
        "\n",
        "Korzystając z maskowania policz następujące statystyki:\n",
        "Medianę opadów w deszczowe dni w 2014 roku\n",
        "Medianę opadów latem w 2014 roku (czyli dni pomiędzy dniem 172 a 262)\n",
        "Maksymalne opady latem 2014 roku\n",
        "Maksymalne opady poza latem 2014 roku (czyli wiosna, jesień i zima)\n"
      ],
      "metadata": {
        "id": "kyfYsYRLvlG-"
      }
    },
    {
      "cell_type": "code",
      "source": [
        "rainfall = pd.read_csv('Seattle2014.csv')['PRCP'].values\n",
        "inches = rainfall/254.0\n",
        "inches.shape\n",
        "\n",
        "i = inches\n",
        "not_raining = i[i<=0].shape[0]\n",
        "\n",
        "was_raining = i[i>0].shape[0]\n",
        "\n",
        "more_than_0_5 = i[i>0.5].shape[0]\n",
        "\n",
        "less_than_0_2_num = i[i>0].shape[0] - i[i>=0.2].shape[0]\n",
        "\n",
        "was_raining_median = np.median(i[i>0])\n",
        "\n",
        "inches_summer = i[171:261]\n",
        "\n",
        "was_raining_median_summer = np.median(inches_summer[inches_summer>0])\n",
        "\n",
        "was_raining_max_summer = np.amax(inches_summer)\n",
        "\n",
        "a = i[:171].shape\n",
        "b = i[261:].shape\n",
        "was_raining_median_non_summer = np.median(np.hstack((a,b)))\n",
        "\n",
        "\n",
        "%matplotlib inline\n",
        "import matplotlib.pyplot as plt\n",
        "import seaborn; seaborn.set()\n",
        "plt.hist(inches)\n",
        "\n",
        "\n",
        "print(\"Number days without rain:      \", not_raining)\n",
        "print(\"Number days with rain:         \", was_raining)\n",
        "print(\"Days with more than 0.5 inches:\", more_than_0_5)\n",
        "print(\"Rainy days with < 0.2 inches  :\", less_than_0_2_num)\n",
        "print(\"Median precip on rainy days in 2014 (inches): \", was_raining_median)\n",
        "print(\"Median precip on summer days in 2014 (inches):  \", was_raining_median_summer)\n",
        "print(\"Maximum precip on summer days in 2014 (inches): \", was_raining_max_summer)\n",
        "print(\"Median precip on non-summer rainy days (inches):\", was_raining_median_non_summer)"
      ],
      "metadata": {
        "colab": {
          "base_uri": "https://localhost:8080/",
          "height": 408
        },
        "id": "uja77Q5PuW64",
        "outputId": "37512046-5771-432e-da71-beb89a5c6f05"
      },
      "execution_count": 9,
      "outputs": [
        {
          "output_type": "stream",
          "name": "stdout",
          "text": [
            "Number days without rain:       215\n",
            "Number days with rain:          150\n",
            "Days with more than 0.5 inches: 37\n",
            "Rainy days with < 0.2 inches  : 75\n",
            "Median precip on rainy days in 2014 (inches):  0.19488188976377951\n",
            "Median precip on summer days in 2014 (inches):   0.0610236220472441\n",
            "Maximum precip on summer days in 2014 (inches):  0.8503937007874016\n",
            "Median precip on non-summer rainy days (inches): 137.5\n"
          ]
        },
        {
          "output_type": "display_data",
          "data": {
            "text/plain": [
              "<Figure size 432x288 with 1 Axes>"
            ],
            "image/png": "[encoded data removed]"
          },
          "metadata": {}
        }
      ]
    },
    {
      "cell_type": "markdown",
      "source": [
        "Zadanie 4\n",
        "Dane są dwa wektory A i B. \n",
        "A = [0,3,2,5]\n",
        "B = [0,3,1,4]\n",
        "\n",
        "Wykonaj następujące operacje:\n",
        "Dodaj A i B\n",
        "Odejmij B od A"
      ],
      "metadata": {
        "id": "zSfWbIAPwCpR"
      }
    },
    {
      "cell_type": "code",
      "source": [
        "A = [0,3,2,5]\n",
        "B = [0,3,1,4]\n",
        "\n",
        "sum = np.add(A,B)\n",
        "dif = np.subtract(B,A)\n",
        "A_mult = np.multiply(A,4)\n",
        "A_vect_scal = np.dot(A,B)\n",
        "lenght_B = np.linalg.norm(B)\n",
        "\n",
        "print(sum)\n",
        "print(dif)\n",
        "print(A_mult)\n",
        "print(A_vect_scal)\n",
        "print(lenght_B)"
      ],
      "metadata": {
        "colab": {
          "base_uri": "https://localhost:8080/"
        },
        "id": "ILQtFnyQuXCW",
        "outputId": "9114cd95-b09b-4472-9bc0-6323d42cc5de"
      },
      "execution_count": 14,
      "outputs": [
        {
          "output_type": "stream",
          "name": "stdout",
          "text": [
            "[0 6 3 9]\n",
            "[ 0  0 -1 -1]\n",
            "[ 0 12  8 20]\n",
            "31\n",
            "5.0990195135927845\n"
          ]
        }
      ]
    },
    {
      "cell_type": "code",
      "source": [],
      "metadata": {
        "id": "GaoXo8Dawm6E"
      },
      "execution_count": null,
      "outputs": []
    }
  ]
}